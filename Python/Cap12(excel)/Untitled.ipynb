{
 "cells": [
  {
   "cell_type": "code",
   "execution_count": 2,
   "id": "9ded7f10",
   "metadata": {},
   "outputs": [
    {
     "name": "stderr",
     "output_type": "stream",
     "text": [
      "C:\\Users\\Diogo\\AppData\\Local\\Temp/ipykernel_12452/4275796094.py:5: DeprecationWarning: Call to deprecated function get_sheet_names (Use wb.sheetnames).\n",
      "  wb.get_sheet_names()\n",
      "C:\\Users\\Diogo\\AppData\\Local\\Temp/ipykernel_12452/4275796094.py:7: DeprecationWarning: Call to deprecated function get_sheet_by_name (Use wb[sheetname]).\n",
      "  sheet = wb.get_sheet_by_name('Sheet3')\n"
     ]
    },
    {
     "data": {
      "text/plain": [
       "'Sheet3'"
      ]
     },
     "execution_count": 2,
     "metadata": {},
     "output_type": "execute_result"
    }
   ],
   "source": [
    "import openpyxl\n",
    "\n",
    "wb = openpyxl.load_workbook('C:\\\\Users\\\\Diogo\\\\Desktop\\\\example.xlsx')\n",
    "type(wb)\n",
    "wb.get_sheet_names()\n",
    "\n",
    "sheet = wb.get_sheet_by_name('Sheet3')\n",
    "\n",
    "sheet\n",
    "\n",
    "sheet.title\n",
    "\n"
   ]
  },
  {
   "cell_type": "markdown",
   "id": "d9f25e53",
   "metadata": {},
   "source": [
    "### Obtendo as células das planilhas"
   ]
  },
  {
   "cell_type": "code",
   "execution_count": 21,
   "id": "00133bb2",
   "metadata": {},
   "outputs": [
    {
     "name": "stdout",
     "output_type": "stream",
     "text": [
      "row 1 Apples\n",
      "row 3 Pears\n",
      "row 5 Apples\n",
      "row 7 Strawberries\n"
     ]
    },
    {
     "name": "stderr",
     "output_type": "stream",
     "text": [
      "C:\\Users\\Diogo\\AppData\\Local\\Temp/ipykernel_12452/82807019.py:1: DeprecationWarning: Call to deprecated function get_sheet_by_name (Use wb[sheetname]).\n",
      "  sheet = wb.get_sheet_by_name('Sheet1')\n"
     ]
    },
    {
     "ename": "ImportError",
     "evalue": "cannot import name 'get_column_letter' from 'openpyxl.cell' (c:\\users\\diogo\\appdata\\local\\programs\\python\\python39\\lib\\site-packages\\openpyxl\\cell\\__init__.py)",
     "output_type": "error",
     "traceback": [
      "\u001b[1;31m---------------------------------------------------------------------------\u001b[0m",
      "\u001b[1;31mImportError\u001b[0m                               Traceback (most recent call last)",
      "\u001b[1;32m~\\AppData\\Local\\Temp/ipykernel_12452/82807019.py\u001b[0m in \u001b[0;36m<module>\u001b[1;34m\u001b[0m\n\u001b[0;32m     24\u001b[0m \u001b[0msheet\u001b[0m\u001b[1;33m.\u001b[0m\u001b[0mmax_row\u001b[0m \u001b[1;31m#Tamanho máximo de rows\u001b[0m\u001b[1;33m\u001b[0m\u001b[1;33m\u001b[0m\u001b[0m\n\u001b[0;32m     25\u001b[0m \u001b[1;33m\u001b[0m\u001b[0m\n\u001b[1;32m---> 26\u001b[1;33m \u001b[1;32mfrom\u001b[0m \u001b[0mopenpyxl\u001b[0m\u001b[1;33m.\u001b[0m\u001b[0mcell\u001b[0m \u001b[1;32mimport\u001b[0m \u001b[0mget_column_letter\u001b[0m\u001b[1;33m,\u001b[0m \u001b[0mcolumn_index_from_string\u001b[0m\u001b[1;33m\u001b[0m\u001b[1;33m\u001b[0m\u001b[0m\n\u001b[0m\u001b[0;32m     27\u001b[0m \u001b[1;33m\u001b[0m\u001b[0m\n",
      "\u001b[1;31mImportError\u001b[0m: cannot import name 'get_column_letter' from 'openpyxl.cell' (c:\\users\\diogo\\appdata\\local\\programs\\python\\python39\\lib\\site-packages\\openpyxl\\cell\\__init__.py)"
     ]
    }
   ],
   "source": [
    "sheet = wb.get_sheet_by_name('Sheet1')\n",
    "sheet['A1']\n",
    "\n",
    "sheet['A1'].value\n",
    "\n",
    "c = sheet['B1']\n",
    "\n",
    "c.value\n",
    "\n",
    "'Row' + str(c.row) + ',Column ' + str(c.column) + ' is ' + str(c.value)\n",
    "\n",
    "'Cell ' + c.coordinate + ' is ' + c.value\n",
    "\n",
    "sheet.cell(row=1, column=2) #Na linha 1, coluna 2, pega o valor\n",
    "\n",
    "sheet.cell(row=1, column=2).value\n",
    "\n",
    "for i in range(1, 8, 2):\n",
    "    print('row ' + str(i), sheet.cell(row=i, column=2).value)\n",
    "    \n",
    "    \n",
    "sheet.max_column #Pega o tamanho máximo de colunas\n",
    "\n",
    "sheet.max_row #Tamanho máximo de rows\n",
    "\n",
    "sheet.\n",
    "\n"
   ]
  },
  {
   "cell_type": "code",
   "execution_count": null,
   "id": "8c73bf19",
   "metadata": {},
   "outputs": [],
   "source": []
  }
 ],
 "metadata": {
  "kernelspec": {
   "display_name": "Python 3 (ipykernel)",
   "language": "python",
   "name": "python3"
  },
  "language_info": {
   "codemirror_mode": {
    "name": "ipython",
    "version": 3
   },
   "file_extension": ".py",
   "mimetype": "text/x-python",
   "name": "python",
   "nbconvert_exporter": "python",
   "pygments_lexer": "ipython3",
   "version": "3.9.6"
  }
 },
 "nbformat": 4,
 "nbformat_minor": 5
}
