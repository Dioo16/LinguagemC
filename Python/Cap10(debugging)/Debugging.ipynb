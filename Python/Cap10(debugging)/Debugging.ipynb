{
 "cells": [
  {
   "cell_type": "markdown",
   "id": "98f49fa5",
   "metadata": {},
   "source": [
    "# Debugando "
   ]
  },
  {
   "cell_type": "markdown",
   "id": "541c465e",
   "metadata": {},
   "source": [
    "### Gerando exceções "
   ]
  },
  {
   "cell_type": "code",
   "execution_count": 45,
   "id": "c4b10fce",
   "metadata": {},
   "outputs": [
    {
     "name": "stdout",
     "output_type": "stream",
     "text": [
      "****\n",
      "**\n",
      "**\n",
      "****\n",
      "OOOOOOOOOOOOOOOOOOOO\n",
      "OO\n",
      "OO\n",
      "OO\n",
      "OOOOOOOOOOOOOOOOOOOO\n",
      "An exception happened:Width must be greater than 2.\n",
      "An exception happened:Symbol must be a single character string\n"
     ]
    }
   ],
   "source": [
    "#raise Exception('This is the erro message')#Para colocar mensagem no erro\n",
    "\n",
    "def boxPrint(symbol, width, height):#Cria a função com 3 parametros\n",
    "    if len(symbol)!= 1:#Condicionais e exceptions\n",
    "        raise Exception('Symbol must be a single character string')\n",
    "    if width <=2:\n",
    "        raise Exception('Width must be greater than 2.')\n",
    "    if height <=2:\n",
    "        raise Exception('Height must be greater than 2.')\n",
    "\n",
    "    print(symbol * width)#Simbolo vezes largura\n",
    "    #Seria o mesmo que '*' vezes 4 = ****\n",
    "    for i in range(height -2):\n",
    "        print(symbol +('' * (width-2)) + symbol)\n",
    "        #Simbolo, + '' x a largura -2 + o symbolo\n",
    "    print(symbol * width)\n",
    "    \n",
    "for sym, w, h in(('*',4,4), ('O',20,5),('x', 1,3),('ZZ', 3,3)):\n",
    "    #No primeiro for será pegado os valores: '*', 4, 4 e assim vai..\n",
    "    try:\n",
    "        boxPrint(sym,w,h)\n",
    "    except Exception as err:#Aparentemente esse except vai pegar\n",
    "        #O erro retornado de raise Exception\n",
    "        print('An exception happened:' + str(err))\n"
   ]
  },
  {
   "cell_type": "markdown",
   "id": "61cdb1e1",
   "metadata": {},
   "source": [
    "### Obtendo o traceback como uma string "
   ]
  },
  {
   "cell_type": "code",
   "execution_count": 46,
   "id": "1cf6f225",
   "metadata": {},
   "outputs": [
    {
     "ename": "Exception",
     "evalue": "This is the erro message",
     "output_type": "error",
     "traceback": [
      "\u001b[1;31m---------------------------------------------------------------------------\u001b[0m",
      "\u001b[1;31mException\u001b[0m                                 Traceback (most recent call last)",
      "\u001b[1;32m<ipython-input-46-fcf74ae9959c>\u001b[0m in \u001b[0;36m<module>\u001b[1;34m\u001b[0m\n\u001b[0;32m      6\u001b[0m \u001b[1;31m#Quando obtido um erro, python gera um traceback\u001b[0m\u001b[1;33m\u001b[0m\u001b[1;33m\u001b[0m\u001b[1;33m\u001b[0m\u001b[0m\n\u001b[0;32m      7\u001b[0m \u001b[1;31m#E podemos alterar a mensagem de erro, como nesse caso\u001b[0m\u001b[1;33m\u001b[0m\u001b[1;33m\u001b[0m\u001b[1;33m\u001b[0m\u001b[0m\n\u001b[1;32m----> 8\u001b[1;33m \u001b[0mspam\u001b[0m\u001b[1;33m(\u001b[0m\u001b[1;33m)\u001b[0m\u001b[1;33m\u001b[0m\u001b[1;33m\u001b[0m\u001b[0m\n\u001b[0m\u001b[0;32m      9\u001b[0m \u001b[1;33m\u001b[0m\u001b[0m\n\u001b[0;32m     10\u001b[0m \u001b[1;32mimport\u001b[0m \u001b[0mtraceback\u001b[0m\u001b[1;33m\u001b[0m\u001b[1;33m\u001b[0m\u001b[0m\n",
      "\u001b[1;32m<ipython-input-46-fcf74ae9959c>\u001b[0m in \u001b[0;36mspam\u001b[1;34m()\u001b[0m\n\u001b[0;32m      1\u001b[0m \u001b[1;32mdef\u001b[0m \u001b[0mspam\u001b[0m\u001b[1;33m(\u001b[0m\u001b[1;33m)\u001b[0m\u001b[1;33m:\u001b[0m\u001b[1;33m\u001b[0m\u001b[1;33m\u001b[0m\u001b[0m\n\u001b[1;32m----> 2\u001b[1;33m     \u001b[0mbacon\u001b[0m\u001b[1;33m(\u001b[0m\u001b[1;33m)\u001b[0m\u001b[1;33m\u001b[0m\u001b[1;33m\u001b[0m\u001b[0m\n\u001b[0m\u001b[0;32m      3\u001b[0m \u001b[1;33m\u001b[0m\u001b[0m\n\u001b[0;32m      4\u001b[0m \u001b[1;32mdef\u001b[0m \u001b[0mbacon\u001b[0m\u001b[1;33m(\u001b[0m\u001b[1;33m)\u001b[0m\u001b[1;33m:\u001b[0m\u001b[1;33m\u001b[0m\u001b[1;33m\u001b[0m\u001b[0m\n\u001b[0;32m      5\u001b[0m     \u001b[1;32mraise\u001b[0m \u001b[0mException\u001b[0m\u001b[1;33m(\u001b[0m\u001b[1;34m'This is the erro message'\u001b[0m\u001b[1;33m)\u001b[0m\u001b[1;33m\u001b[0m\u001b[1;33m\u001b[0m\u001b[0m\n",
      "\u001b[1;32m<ipython-input-46-fcf74ae9959c>\u001b[0m in \u001b[0;36mbacon\u001b[1;34m()\u001b[0m\n\u001b[0;32m      3\u001b[0m \u001b[1;33m\u001b[0m\u001b[0m\n\u001b[0;32m      4\u001b[0m \u001b[1;32mdef\u001b[0m \u001b[0mbacon\u001b[0m\u001b[1;33m(\u001b[0m\u001b[1;33m)\u001b[0m\u001b[1;33m:\u001b[0m\u001b[1;33m\u001b[0m\u001b[1;33m\u001b[0m\u001b[0m\n\u001b[1;32m----> 5\u001b[1;33m     \u001b[1;32mraise\u001b[0m \u001b[0mException\u001b[0m\u001b[1;33m(\u001b[0m\u001b[1;34m'This is the erro message'\u001b[0m\u001b[1;33m)\u001b[0m\u001b[1;33m\u001b[0m\u001b[1;33m\u001b[0m\u001b[0m\n\u001b[0m\u001b[0;32m      6\u001b[0m \u001b[1;31m#Quando obtido um erro, python gera um traceback\u001b[0m\u001b[1;33m\u001b[0m\u001b[1;33m\u001b[0m\u001b[1;33m\u001b[0m\u001b[0m\n\u001b[0;32m      7\u001b[0m \u001b[1;31m#E podemos alterar a mensagem de erro, como nesse caso\u001b[0m\u001b[1;33m\u001b[0m\u001b[1;33m\u001b[0m\u001b[1;33m\u001b[0m\u001b[0m\n",
      "\u001b[1;31mException\u001b[0m: This is the erro message"
     ]
    }
   ],
   "source": [
    "def spam():\n",
    "    bacon()\n",
    "    \n",
    "def bacon():\n",
    "    raise Exception('This is the erro message')\n",
    "#Quando obtido um erro, python gera um traceback\n",
    "#E podemos alterar a mensagem de erro, como nesse caso\n",
    "spam()\n",
    "\n",
    "import traceback\n",
    "try:\n",
    "    raise Exception('This is the erro message')#Gera a exception\n",
    "except:\n",
    "    errorFile = open('errorInfo.txt', 'w')#Cria um novo arquivo em modo writer(leitura)\n",
    "    errorFile.write(traceback.format_exc())#O arquivo Errorfile\n",
    "#Vai receber o traceback de erro pela função traceback.format.exc\n",
    "    errorFile.close()#Fecha o arquivo\n",
    "    print(\"The traceback info was written to errorInfo.txt\")\n",
    "\n",
    "    "
   ]
  },
  {
   "cell_type": "markdown",
   "id": "e4fd52c4",
   "metadata": {},
   "source": [
    "### Asserções "
   ]
  },
  {
   "cell_type": "code",
   "execution_count": 10,
   "id": "b721359f",
   "metadata": {},
   "outputs": [
    {
     "ename": "AssertionError",
     "evalue": "The pod bay doors need to be \"open\".",
     "output_type": "error",
     "traceback": [
      "\u001b[1;31m---------------------------------------------------------------------------\u001b[0m",
      "\u001b[1;31mAssertionError\u001b[0m                            Traceback (most recent call last)",
      "\u001b[1;32m<ipython-input-10-56d2f8c1959b>\u001b[0m in \u001b[0;36m<module>\u001b[1;34m\u001b[0m\n\u001b[0;32m      2\u001b[0m \u001b[1;32massert\u001b[0m \u001b[0mpodBayDoorStatus\u001b[0m \u001b[1;33m==\u001b[0m\u001b[1;34m'open'\u001b[0m\u001b[1;33m,\u001b[0m \u001b[1;34m'The Pod bay doors need to be \"open\". '\u001b[0m\u001b[1;33m\u001b[0m\u001b[1;33m\u001b[0m\u001b[0m\n\u001b[0;32m      3\u001b[0m \u001b[0mpodBayDoorStatus\u001b[0m \u001b[1;33m=\u001b[0m \u001b[1;34m'I\\'m sorry, Dave, Im afraid i cant do that '\u001b[0m\u001b[1;33m\u001b[0m\u001b[1;33m\u001b[0m\u001b[0m\n\u001b[1;32m----> 4\u001b[1;33m \u001b[1;32massert\u001b[0m \u001b[0mpodBayDoorStatus\u001b[0m \u001b[1;33m==\u001b[0m \u001b[1;34m'open'\u001b[0m\u001b[1;33m,\u001b[0m \u001b[1;34m'The pod bay doors need to be \"open\".'\u001b[0m\u001b[1;33m\u001b[0m\u001b[1;33m\u001b[0m\u001b[0m\n\u001b[0m",
      "\u001b[1;31mAssertionError\u001b[0m: The pod bay doors need to be \"open\"."
     ]
    }
   ],
   "source": [
    "podBayDoorStatus = 'open'\n",
    "assert podBayDoorStatus =='open', 'The Pod bay doors need to be \"open\". '\n",
    "#Assert necessita de uma condição, se for true, um valor\n",
    "#Caso essa condição uma hora vire False, ele retornará um erro com\n",
    "#Uma mensagem escolhida para aquele problema\n",
    "podBayDoorStatus = 'I\\'m sorry, Dave, Im afraid i cant do that '\n",
    "assert podBayDoorStatus == 'open', 'The pod bay doors need to be \"open\".'\n"
   ]
  },
  {
   "cell_type": "markdown",
   "id": "c7e7ce0b",
   "metadata": {},
   "source": [
    "### Usando uma asserção em uma simulação de semáforo "
   ]
  },
  {
   "cell_type": "code",
   "execution_count": 13,
   "id": "11554165",
   "metadata": {},
   "outputs": [
    {
     "ename": "AssertionError",
     "evalue": "Neither light is red{'ns': 'yellow', 'ew': 'green'}",
     "output_type": "error",
     "traceback": [
      "\u001b[1;31m---------------------------------------------------------------------------\u001b[0m",
      "\u001b[1;31mAssertionError\u001b[0m                            Traceback (most recent call last)",
      "\u001b[1;32m<ipython-input-13-8a9cefdc89eb>\u001b[0m in \u001b[0;36m<module>\u001b[1;34m\u001b[0m\n\u001b[0;32m     11\u001b[0m             \u001b[0mstoplight\u001b[0m\u001b[1;33m[\u001b[0m\u001b[0mkey\u001b[0m\u001b[1;33m]\u001b[0m \u001b[1;33m=\u001b[0m \u001b[1;34m'green'\u001b[0m\u001b[1;33m\u001b[0m\u001b[1;33m\u001b[0m\u001b[0m\n\u001b[0;32m     12\u001b[0m         \u001b[1;32massert\u001b[0m \u001b[1;34m'red'\u001b[0m \u001b[1;32min\u001b[0m \u001b[0mstoplight\u001b[0m\u001b[1;33m.\u001b[0m\u001b[0mvalues\u001b[0m\u001b[1;33m(\u001b[0m\u001b[1;33m)\u001b[0m\u001b[1;33m,\u001b[0m \u001b[1;34m'Neither light is red'\u001b[0m \u001b[1;33m+\u001b[0m \u001b[0mstr\u001b[0m\u001b[1;33m(\u001b[0m\u001b[0mstoplight\u001b[0m\u001b[1;33m)\u001b[0m\u001b[1;33m\u001b[0m\u001b[1;33m\u001b[0m\u001b[0m\n\u001b[1;32m---> 13\u001b[1;33m \u001b[0mswitchLights\u001b[0m\u001b[1;33m(\u001b[0m\u001b[0mmarket_2nd\u001b[0m\u001b[1;33m)\u001b[0m\u001b[1;33m\u001b[0m\u001b[1;33m\u001b[0m\u001b[0m\n\u001b[0m\u001b[0;32m     14\u001b[0m \u001b[1;33m\u001b[0m\u001b[0m\n\u001b[0;32m     15\u001b[0m \u001b[1;33m\u001b[0m\u001b[0m\n",
      "\u001b[1;32m<ipython-input-13-8a9cefdc89eb>\u001b[0m in \u001b[0;36mswitchLights\u001b[1;34m(stoplight)\u001b[0m\n\u001b[0;32m     10\u001b[0m         \u001b[1;32melif\u001b[0m \u001b[0mstoplight\u001b[0m\u001b[1;33m[\u001b[0m\u001b[0mkey\u001b[0m\u001b[1;33m]\u001b[0m \u001b[1;33m==\u001b[0m \u001b[1;34m'red'\u001b[0m\u001b[1;33m:\u001b[0m\u001b[1;33m\u001b[0m\u001b[1;33m\u001b[0m\u001b[0m\n\u001b[0;32m     11\u001b[0m             \u001b[0mstoplight\u001b[0m\u001b[1;33m[\u001b[0m\u001b[0mkey\u001b[0m\u001b[1;33m]\u001b[0m \u001b[1;33m=\u001b[0m \u001b[1;34m'green'\u001b[0m\u001b[1;33m\u001b[0m\u001b[1;33m\u001b[0m\u001b[0m\n\u001b[1;32m---> 12\u001b[1;33m         \u001b[1;32massert\u001b[0m \u001b[1;34m'red'\u001b[0m \u001b[1;32min\u001b[0m \u001b[0mstoplight\u001b[0m\u001b[1;33m.\u001b[0m\u001b[0mvalues\u001b[0m\u001b[1;33m(\u001b[0m\u001b[1;33m)\u001b[0m\u001b[1;33m,\u001b[0m \u001b[1;34m'Neither light is red'\u001b[0m \u001b[1;33m+\u001b[0m \u001b[0mstr\u001b[0m\u001b[1;33m(\u001b[0m\u001b[0mstoplight\u001b[0m\u001b[1;33m)\u001b[0m\u001b[1;33m\u001b[0m\u001b[1;33m\u001b[0m\u001b[0m\n\u001b[0m\u001b[0;32m     13\u001b[0m \u001b[0mswitchLights\u001b[0m\u001b[1;33m(\u001b[0m\u001b[0mmarket_2nd\u001b[0m\u001b[1;33m)\u001b[0m\u001b[1;33m\u001b[0m\u001b[1;33m\u001b[0m\u001b[0m\n\u001b[0;32m     14\u001b[0m \u001b[1;33m\u001b[0m\u001b[0m\n",
      "\u001b[1;31mAssertionError\u001b[0m: Neither light is red{'ns': 'yellow', 'ew': 'green'}"
     ]
    }
   ],
   "source": [
    "market_2nd = {'ns': 'green', 'ew':'red'}\n",
    "mission_16th = {'ns': 'red', 'ew':'green'}\n",
    "\n",
    "def switchLights(stoplight):\n",
    "    for key in stoplight.keys():\n",
    "        if stoplight[key] == 'green':\n",
    "            stoplight[key] = 'yellow'\n",
    "        elif stoplight[key] == 'yellow':\n",
    "            stoplight[key] = 'red'\n",
    "        elif stoplight[key] == 'red':\n",
    "            stoplight[key] = 'green'\n",
    "        assert 'red' in stoplight.values(), 'Neither light is red' + str(stoplight)\n",
    "switchLights(market_2nd)#Um erro que pode ocorrer é o sair da lista por tempo e n volta\n",
    "            \n",
    "    \n",
    "    \n",
    "    "
   ]
  },
  {
   "cell_type": "markdown",
   "id": "34731981",
   "metadata": {},
   "source": [
    "###  Desabilitando as asserções"
   ]
  },
  {
   "cell_type": "code",
   "execution_count": null,
   "id": "155a5d7f",
   "metadata": {},
   "outputs": [],
   "source": [
    "ao usar -O podemos desabilitar asserções"
   ]
  },
  {
   "cell_type": "markdown",
   "id": "12a7a459",
   "metadata": {},
   "source": [
    "### Logging"
   ]
  },
  {
   "cell_type": "code",
   "execution_count": 41,
   "id": "680bcbfc",
   "metadata": {},
   "outputs": [
    {
     "name": "stdout",
     "output_type": "stream",
     "text": [
      "120\n"
     ]
    }
   ],
   "source": [
    "import logging\n",
    "\n",
    "logging.disable(logging.CRITICAL)\n",
    "logging.basicConfig(level = logging.DEBUG, format='%(asctime)s - %(levelname)s - %(message)s')\n",
    "logging.debug('Start of Program')#Função logging.debug exibe as informaçõe sde log\n",
    "#Logging funciona como um print()\n",
    "def factorial(n):\n",
    "    logging.debug('Start of factorial(%s%%)' %(n))\n",
    "    #%s%% ta usando placeholder para colocar o valor de N ali\n",
    "    total = 1\n",
    "    for i in range(1,n+1):\n",
    "        total *= i\n",
    "        logging.debug('i is' + str(i) + ', total is ' + str(total))\n",
    "    logging.debug('End of factorial(%s%%)' %(n))\n",
    "    return total\n",
    "print(factorial(5))\n",
    "logging.debug('End of program')\n",
    "\n",
    "#logging.disable(logging.CRITICAL) #Desabilita o logging \n",
    "\n",
    "\n",
    "\n"
   ]
  },
  {
   "cell_type": "markdown",
   "id": "073413a2",
   "metadata": {},
   "source": [
    "### Não faça debug com print() "
   ]
  },
  {
   "cell_type": "code",
   "execution_count": 20,
   "id": "838ce4ed",
   "metadata": {},
   "outputs": [],
   "source": [
    "#Debugging é muito melhor, pois evita mais erros e pode ser desabilitado\n",
    "# a qualquer momennto"
   ]
  },
  {
   "cell_type": "markdown",
   "id": "638bd560",
   "metadata": {},
   "source": [
    "### Niveis de logging"
   ]
  },
  {
   "cell_type": "code",
   "execution_count": 51,
   "id": "854d6240",
   "metadata": {},
   "outputs": [],
   "source": [
    "'''DEBUG logging.debug()\n",
    "É o nível mais baixo. Usado para pequenos detalhes. Geralmente, você estará\n",
    "interessado nessas mensagens somente quando estiver diagnosticando problemas.\n",
    "\n",
    "INFO logging.info()\n",
    "Usado para registrar informações sobre eventos em geral em seu programa ou para\n",
    "confirmar se tudo está funcionando nesse ponto do programa.\n",
    "\n",
    "WARNING logging.warning()\n",
    "Usado para indicar um problema em potencial que não impede o programa de\n",
    "funcionar, porém poderá fazer isso no futuro.\n",
    "\n",
    "ERROR logging.error() Usado para registrar um erro que fez o programa falhar em fazer algo.\n",
    "CRITICAL logging.critical()\n",
    "\n",
    "É o nível mais alto. Usado para indicar um erro fatal que fez ou está prestes a fazer o\n",
    "programa parar totalmente de executar.\n",
    "'''\n",
    "logging.basicConfig(level=logging.DEBUG, format=' %(asctime)s- %(levelname)s - % (message)s')\n",
    "logging.debug('Some debugging details.')\n",
    "\n",
    "logging.info('The logging module is working.')\n"
   ]
  },
  {
   "cell_type": "code",
   "execution_count": 52,
   "id": "c5d2045a",
   "metadata": {},
   "outputs": [],
   "source": [
    "\n",
    "#Módulo que tem que ser importado no Logging\n",
    "\n",
    "logging.critical('Critical error! Critical error!')\n",
    "\n",
    "#logging.disable(logging.CRITICAL)#Desabilita o logging\n",
    "logging.critical('Critical error! Critical error!')\n",
    "logging.critical('Critical error! Critical error!')\n",
    "logging.error('Error! Error!')\n",
    "\n",
    "\n"
   ]
  },
  {
   "cell_type": "markdown",
   "id": "8abcff77",
   "metadata": {},
   "source": [
    "### Logging em um arquivo"
   ]
  },
  {
   "cell_type": "code",
   "execution_count": 53,
   "id": "5ec9805b",
   "metadata": {},
   "outputs": [
    {
     "ename": "NameError",
     "evalue": "name 'a' is not defined",
     "output_type": "error",
     "traceback": [
      "\u001b[1;31m---------------------------------------------------------------------------\u001b[0m",
      "\u001b[1;31mNameError\u001b[0m                                 Traceback (most recent call last)",
      "\u001b[1;32m<ipython-input-53-51d89889157f>\u001b[0m in \u001b[0;36m<module>\u001b[1;34m\u001b[0m\n\u001b[0;32m      3\u001b[0m \u001b[0mlogging\u001b[0m\u001b[1;33m.\u001b[0m\u001b[0mbasicConfig\u001b[0m\u001b[1;33m(\u001b[0m\u001b[0mfilename\u001b[0m\u001b[1;33m=\u001b[0m\u001b[1;34m'myProgramLog.txt'\u001b[0m\u001b[1;33m,\u001b[0m \u001b[0mlevel\u001b[0m\u001b[1;33m=\u001b[0m\u001b[0mlogging\u001b[0m\u001b[1;33m.\u001b[0m\u001b[0mDEBUG\u001b[0m\u001b[1;33m,\u001b[0m \u001b[0mformat\u001b[0m\u001b[1;33m=\u001b[0m\u001b[1;34m'%(asctime)s - %(levelname)s- %(message)s'\u001b[0m\u001b[1;33m)\u001b[0m\u001b[1;33m\u001b[0m\u001b[1;33m\u001b[0m\u001b[0m\n\u001b[0;32m      4\u001b[0m \u001b[1;31m#Grava o log do erro em um arquivo diretamente\u001b[0m\u001b[1;33m\u001b[0m\u001b[1;33m\u001b[0m\u001b[1;33m\u001b[0m\u001b[0m\n\u001b[1;32m----> 5\u001b[1;33m \u001b[0ma\u001b[0m\u001b[1;33m\u001b[0m\u001b[1;33m\u001b[0m\u001b[0m\n\u001b[0m\u001b[0;32m      6\u001b[0m \u001b[1;33m\u001b[0m\u001b[0m\n",
      "\u001b[1;31mNameError\u001b[0m: name 'a' is not defined"
     ]
    }
   ],
   "source": [
    "import logging\n",
    "\n",
    "logging.basicConfig(filename='myProgramLog.txt', level=logging.DEBUG, format='%(asctime)s - %(levelname)s- %(message)s')\n",
    "#Grava o log do erro em um arquivo diretamente\n",
    "\n",
    "\n"
   ]
  },
  {
   "cell_type": "markdown",
   "id": "c7ee9198",
   "metadata": {},
   "source": [
    "### Debugger do IDLE "
   ]
  },
  {
   "cell_type": "code",
   "execution_count": 54,
   "id": "db6adb87",
   "metadata": {},
   "outputs": [],
   "source": [
    "import pdb:pdb.set_trace()\n",
    "\n",
    "python -m pdb arquivo.py\n",
    "\n",
    "python -m pdb fibonacci\n",
    "\n",
    "\n",
    "\n"
   ]
  },
  {
   "cell_type": "code",
   "execution_count": null,
   "id": "4438be64",
   "metadata": {},
   "outputs": [],
   "source": []
  }
 ],
 "metadata": {
  "kernelspec": {
   "display_name": "Python 3",
   "language": "python",
   "name": "python3"
  },
  "language_info": {
   "codemirror_mode": {
    "name": "ipython",
    "version": 3
   },
   "file_extension": ".py",
   "mimetype": "text/x-python",
   "name": "python",
   "nbconvert_exporter": "python",
   "pygments_lexer": "ipython3",
   "version": "3.9.4"
  }
 },
 "nbformat": 4,
 "nbformat_minor": 5
}
