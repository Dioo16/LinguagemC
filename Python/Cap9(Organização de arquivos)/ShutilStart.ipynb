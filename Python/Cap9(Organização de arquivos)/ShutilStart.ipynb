{
 "cells": [
  {
   "cell_type": "markdown",
   "id": "efaa897c",
   "metadata": {},
   "source": [
    "# Copy files"
   ]
  },
  {
   "cell_type": "code",
   "execution_count": 1,
   "id": "1a0c60c8",
   "metadata": {},
   "outputs": [],
   "source": [
    "import shutil"
   ]
  },
  {
   "cell_type": "code",
   "execution_count": 5,
   "id": "6622158e",
   "metadata": {},
   "outputs": [
    {
     "data": {
      "text/plain": [
       "'C:\\\\Users\\\\Diopc\\\\Desktop\\\\Linguagens\\\\TestandoWith.txt'"
      ]
     },
     "execution_count": 5,
     "metadata": {},
     "output_type": "execute_result"
    }
   ],
   "source": [
    "shutil.copy('C:\\\\Users\\\\Diopc\\\\Desktop\\\\TestandoWith.txt', 'C:\\\\Users\\\\Diopc\\\\Desktop\\\\Linguagens')#Shutil.copy(Origem, Destino)\n",
    "#Podemos mudar o nome do arquivo também, somente colar o nome no destino e seu tipo .txt e etc"
   ]
  },
  {
   "cell_type": "code",
   "execution_count": 12,
   "id": "e6f66acc",
   "metadata": {
    "scrolled": true
   },
   "outputs": [
    {
     "data": {
      "text/plain": [
       "'C:\\\\Users\\\\Diopc\\\\Desktop\\\\Linguagens\\\\PdfsImportantesParaEstudo'"
      ]
     },
     "execution_count": 12,
     "metadata": {},
     "output_type": "execute_result"
    }
   ],
   "source": [
    "shutil.copytree('C:\\\\Users\\\\Diopc\\\\Desktop\\\\pdfsimportantes(estudo)','C:\\\\Users\\\\Diopc\\\\Desktop\\\\Linguagens\\\\PdfsImportantesParaEstudo')#Copiando uma pasta inteira\n",
    "#É necessário colocar o nome da pasta no destino final,\n"
   ]
  },
  {
   "cell_type": "markdown",
   "id": "eeebdcda",
   "metadata": {},
   "source": [
    "# Moving Files\n"
   ]
  },
  {
   "cell_type": "code",
   "execution_count": 13,
   "id": "a421a828",
   "metadata": {},
   "outputs": [
    {
     "data": {
      "text/plain": [
       "'C:\\\\Users\\\\Diopc\\\\downloads\\\\mae'"
      ]
     },
     "execution_count": 13,
     "metadata": {},
     "output_type": "execute_result"
    }
   ],
   "source": [
    "shutil.move('C:\\\\Users\\\\Diopc\\\\Desktop\\\\mae','C:\\\\Users\\\\Diopc\\\\downloads\\\\')0\n",
    "#Move o arquivo ou pasta, (origem, destino)\n",
    "#Se tiver um arquivo com nome parecido ele é sobrescrito\n",
    "#Também podemos alterar o nome do arquivo se colocarmos no final\n",
    "#Se houver uma pasta com esse nome ele salvará dentro dela\n",
    "#Caso contrário será renomeado"
   ]
  },
  {
   "cell_type": "markdown",
   "id": "4eeb4199",
   "metadata": {},
   "source": [
    "# Deleting files and folders permanently"
   ]
  },
  {
   "cell_type": "code",
   "execution_count": 14,
   "id": "e1ab42fa",
   "metadata": {},
   "outputs": [],
   "source": [
    "import os"
   ]
  },
  {
   "cell_type": "code",
   "execution_count": null,
   "id": "baf69f04",
   "metadata": {},
   "outputs": [],
   "source": [
    "os.unlink(path)#Exclui o arquivo no caminho\n",
    "os.rmdir(path)#apagará a pasta em path. Essa pasta deve estar vazia,ou seja, não deve conter nenhum arquivo ou pasta\n",
    "shutil.rmtree(path) #Apagará tudo\n"
   ]
  },
  {
   "cell_type": "code",
   "execution_count": 16,
   "id": "104d090a",
   "metadata": {},
   "outputs": [
    {
     "name": "stdout",
     "output_type": "stream",
     "text": [
      "05-construtores-this-sobrecarga-encapsulamento(para-anotacoes).pdf\n",
      "05-construtores-this-sobrecarga-encapsulamento.pdf\n",
      "06-memoria-arrays-listas(para-anotacoes).pdf\n",
      "06-memoria-arrays-listas.pdf\n",
      "07-topicos-especiais-parte1.pdf\n",
      "atp1-pe.pdf\n",
      "atp2-pe (1).pdf\n",
      "atp2-pe.pdf\n",
      "DevProgram Brasil - PRO 17maio2021 - Apresentação Oficial .pdf\n",
      "Documento de Instruções para Certificação Checkout PRO- BR (1).pdf\n",
      "Documento de Instruções para Certificação Checkout PRO- BR.pdf\n",
      "dokumen.pub_habitos-atomicos-um-metodo-facil-e-comprovado-de-criar-bons-habitos-e-se-livrar-dos-maus-8550807567-9788550807560.pdf\n",
      "Exame Certificação Developers MLB - Checkout PRO Mercado Pago (1).pdf\n",
      "Faça-fortuna-com-ações.pdf\n",
      "InfoCEI.pdf\n",
      "kupdf.net_em-portuguese-dobrasil-thomas-h-cormen-desmistificando-algoritmos-campus-grupo-elsevier-2013.pdf\n",
      "Mapa mental.pdf\n",
      "MapaMental(Estástistica) (1).pdf\n",
      "MapaMental(Estástistica)-convertido.pdf\n",
      "MapaMental(Estástistica).pdf\n",
      "ORIENTACÕES DE ESTAGIO_2021 (1).pdf\n",
      "slides-pp-pe-1.pdf\n",
      "slides-pp-pe-2.pdf\n",
      "tce_diogo_nascimento.pdf\n"
     ]
    }
   ],
   "source": [
    "for filename in os.listdir('C:\\\\Users\\\\Diopc\\\\Downloads'):\n",
    "    if filename.endswith('.pdf'):\n",
    "        #os.unlink(filename)\n",
    "        print(filename)"
   ]
  },
  {
   "cell_type": "code",
   "execution_count": null,
   "id": "b2045b0c",
   "metadata": {},
   "outputs": [],
   "source": [
    "#Da para usar o send2trash para enviar para lixeira em vez de apagar tudo\n",
    "#Vou pular porque não me interessa muito\n",
    "\n"
   ]
  },
  {
   "cell_type": "markdown",
   "id": "879ad394",
   "metadata": {},
   "source": [
    "# Traversing a directory tree"
   ]
  },
  {
   "cell_type": "code",
   "execution_count": 36,
   "id": "fa3f3633",
   "metadata": {},
   "outputs": [
    {
     "name": "stdout",
     "output_type": "stream",
     "text": [
      "[('C:\\\\Users\\\\Diopc\\\\desktop\\\\pdfsimportantes(estudo)', ['Pastatest'], ['2017-bruce-and-bruce-pratical-statistics-for-data-scientists.pdf', 'Automatize_Tarefas_Macantes_Com_Python_- (1).pdf', 'debug.log', 'desenvolvimento-web-com-python-e-django.pdf', 'Morettin_e_Bussab_Estatastica_Basica_6_e (1).pdf', 'proj.txt', 'pythonoo.pdf', '_Documentação do Django Pt-Br.pdf']), ('C:\\\\Users\\\\Diopc\\\\desktop\\\\pdfsimportantes(estudo)\\\\Pastatest', [], ['TesteWalk.txt'])]\n"
     ]
    }
   ],
   "source": [
    "c =[foldername  for  foldername in os.walk('C:\\\\Users\\\\Diopc\\\\desktop\\\\pdfsimportantes(estudo)')]\n",
    "\n",
    "print(c)"
   ]
  },
  {
   "cell_type": "markdown",
   "id": "2a0a4d3e",
   "metadata": {},
   "source": [
    "# Module ZipFile"
   ]
  },
  {
   "cell_type": "code",
   "execution_count": 18,
   "id": "52031119",
   "metadata": {},
   "outputs": [],
   "source": [
    "import zipfile, os\n",
    "\n",
    "os.chdir('C:\\\\Users\\\\Diopc\\\\Downloads')#Change directory, muda o diretório\n",
    "\n",
    "examplezip = zipfile.ZipFile('aaaa.zip')#A váriavel recebe o arquivo zip\n",
    "examplezip.namelist()#Conseguimos visualizar em forma de listas o que tem no arquivo zip\n",
    "\n",
    "aaaInfo = examplezip.getinfo('flux-setup.exe')\n",
    "\n",
    "aaaInfo.file_size#Verifica o tamanho do arquivo em kb\n",
    "\n",
    "aaaInfo.compress_size#Verifica o tamanho do arquivo em forma comprimida\n",
    "\n",
    "'Compressed file is %sx amaller!' % (round(aaaInfo.file_size/aaaInfo.compress_size,2))\n",
    "#Verfica quantas vezes menor é a forma comprimida\n",
    "\n",
    "examplezip.close()\n",
    "\n",
    "\n"
   ]
  },
  {
   "cell_type": "markdown",
   "id": "4e9044ba",
   "metadata": {},
   "source": [
    "### Extraindo itens de arquivos ZIP "
   ]
  },
  {
   "cell_type": "code",
   "execution_count": 28,
   "id": "4ae40c21",
   "metadata": {},
   "outputs": [],
   "source": [
    "os.chdir('C:\\\\Users\\\\Diopc\\\\Downloads')\n",
    "\n",
    "\n",
    "ExampleZip = zipfile.ZipFile('test.zip')#Abre o arquivo zip\n",
    "ExampleZip.extractall()#Extrái todos seus arquivos e retorna no diretório atual\n",
    "#Caso não coloque o path do diretório em que se quer extrair\n",
    "\n",
    "#Zip só extrai um arquivo por vez, extraindo para uma pasta:\n",
    "ExampleZip.extract('LivrosBons.txt','C:\\\\Users\\\\Diopc\\\\Downloads\\\\Silicon Valley 1ª Temporada Completa 720p (2014) Dual Áudio - WWW.THEPIRATEFILMES.COM')\n",
    "\n",
    "ExampleZip.close()"
   ]
  },
  {
   "cell_type": "markdown",
   "id": "4cdc705b",
   "metadata": {},
   "source": [
    "### Criando arquivos ZIP e adicionando itens"
   ]
  },
  {
   "cell_type": "code",
   "execution_count": 32,
   "id": "dc4b6e6e",
   "metadata": {},
   "outputs": [],
   "source": [
    "newzip = zipfile.ZipFile('new.zip','w')#Cria um arquivo zip, deixando em modo writer'w'\n",
    "#O modo de writer como visto antes, substitui tudo pelo o que voce vai adcionar\n",
    "#Para adicionar de forma acumulativa passe o modo 'a' de adition\n",
    "newzip.write('LivrosBons.txt', compress_type=zipfile.ZIP_DEFLATED)\n",
    "#Primeiro o arquivo que vai ser adicionado\n",
    "#Segundo o tipo de compactação, zipfile_ZIP_DEFLATED é o padrão mais usado\n",
    "\n",
    "newzip.close()\n",
    "\n",
    "\n"
   ]
  },
  {
   "cell_type": "markdown",
   "id": "d44998af",
   "metadata": {},
   "source": [
    "### Projeto: Renomeando arquivos com datas em estilo americano para datas em estilo eropeu"
   ]
  },
  {
   "cell_type": "code",
   "execution_count": null,
   "id": "54c26f96",
   "metadata": {},
   "outputs": [],
   "source": [
    "import shutil, os, re\n",
    "\n",
    "dataoriginal = re.compile(r\"\"\"^(.*?)#Regex \n",
    "((0|1)?\\d)-\n",
    "((0|1|2|3)?\\d)-\n",
    "((19|20)\\d\\d)\n",
    "(.*?)$\n",
    "\"\"\", re.VERBOSE)\n",
    "#Pode ter 0 ou 1 no digito mensal(1-12 meses)\n",
    "#No digito do dia pode variar 10-20-30 algarismos(mes tem 30 dias)\n",
    "#No ultimo vamos pegar a partir do ano 19-20\n",
    "\n",
    "for amerFilename in os.listdir('.'):#Vai passar por toda lista de diretórios\n",
    "    mo = dataoriginal.search(amerFilename)#/vai pegar todos que obedecem as regras do regex\n",
    "    \n",
    "    if mo == None:#Se for igual a nulo vai continuar(ignora arquivos que nao tem data)\n",
    "        continue\n",
    "\n",
    "beforePart = mo.group(1)\n",
    "monthPart = mo.group(2)\n",
    "dayPart = mo.group(4)\n",
    "yearPart = mo.group(6)\n",
    "afterPart = mo.group(8)\n",
    "\n",
    "euroFilename = beforePart + dayPart + '-' monthPart + '-' + yearPart + afterPart\n",
    "# Recebe o nome completo do arquivo com a data modificada\n",
    "absWorkingDir = os.path.abspath('.')#Vai abrir o diretório com os arquivos a serem alterados\n",
    "amerFilename = os.path.join(absWorkingDir, amerFilename)#amerFilename vão vir todos no antigo formato\n",
    "euroFilename = os.path.join(absWorkingDir, euroFilename)#Eurofilename vão vir todos no formato europeu\n",
    "\n",
    "\n",
    "\n",
    "\n",
    "\n",
    "\n"
   ]
  },
  {
   "cell_type": "markdown",
   "id": "923f922a",
   "metadata": {},
   "source": [
    "### Projeto: Fazer backup de uma pasta usando arquivo ZIP"
   ]
  },
  {
   "cell_type": "code",
   "execution_count": null,
   "id": "a21e9e15",
   "metadata": {},
   "outputs": [],
   "source": [
    "def backupToZip(folder):\n",
    "    \n",
    "    folder = os.path.abspath(folder)\n",
    "    number = 1\n",
    "    while True:\n",
    "        zipFilename = os.path.basename(folder) + '-' + str(number) + '.zip'\n",
    "        if not os.path.exists(zipFilename):\n",
    "            break\n",
    "        number = number + 1\n",
    "        \n",
    "    print('Creating %s...' %(zipFilename))\n",
    "    backupZip = zipfile.ZipFile(zipFilename,'w')\n",
    "\n",
    "    for foldername, subfolders, filenames in os.walk(folder):\n",
    "        print('Adding files in %s...'(foldername))\n",
    "        backupZip.write(foldername)\n",
    "    \n",
    "    for file name in filenames:\n",
    "        newBase = os.path.basename(folder)+'-'\n",
    "        if filename.startswith(newBase) and filename.endswith('.zip'):\n",
    "            continue\n",
    "        backupZip.write(os.path.join(foldername,filename))\n",
    "    backupZip.close()\n",
    "    print(done)\n",
    "    "
   ]
  },
  {
   "cell_type": "code",
   "execution_count": 33,
   "id": "dded9feb",
   "metadata": {},
   "outputs": [],
   "source": [
    "#Exercícios ToDo\n"
   ]
  },
  {
   "cell_type": "code",
   "execution_count": null,
   "id": "aa074a58",
   "metadata": {},
   "outputs": [],
   "source": []
  }
 ],
 "metadata": {
  "kernelspec": {
   "display_name": "Python 3",
   "language": "python",
   "name": "python3"
  },
  "language_info": {
   "codemirror_mode": {
    "name": "ipython",
    "version": 3
   },
   "file_extension": ".py",
   "mimetype": "text/x-python",
   "name": "python",
   "nbconvert_exporter": "python",
   "pygments_lexer": "ipython3",
   "version": "3.9.4"
  }
 },
 "nbformat": 4,
 "nbformat_minor": 5
}
